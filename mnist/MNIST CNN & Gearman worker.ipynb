{
 "cells": [
  {
   "cell_type": "markdown",
   "metadata": {},
   "source": [
    "## Setup"
   ]
  },
  {
   "cell_type": "code",
   "execution_count": 18,
   "metadata": {},
   "outputs": [],
   "source": [
    "import tensorflow as tf\n",
    "import numpy as np\n",
    "from matplotlib import pyplot as plt\n",
    "from keras.layers import Conv2D, MaxPool2D, Dense, BatchNormalization, \\\n",
    "                         Input, Flatten, Activation, Reshape\n",
    "from keras.models import Model\n",
    "\n",
    "# Ignorar warnings, especialmente do scikit-image\n",
    "import warnings\n",
    "warnings.filterwarnings(\"ignore\")"
   ]
  },
  {
   "cell_type": "markdown",
   "metadata": {},
   "source": [
    "## Download do dataset, e divisão em treino e teste"
   ]
  },
  {
   "cell_type": "code",
   "execution_count": 2,
   "metadata": {},
   "outputs": [
    {
     "name": "stdout",
     "output_type": "stream",
     "text": [
      "Downloading data from https://storage.googleapis.com/tensorflow/tf-keras-datasets/mnist.npz\n",
      "11493376/11490434 [==============================] - 2s 0us/step\n"
     ]
    }
   ],
   "source": [
    "mnist = tf.keras.datasets.mnist\n",
    "(x_train, y_train),(x_test, y_test)  = mnist.load_data()"
   ]
  },
  {
   "cell_type": "markdown",
   "metadata": {},
   "source": [
    "## Criação do modelo"
   ]
  },
  {
   "cell_type": "markdown",
   "metadata": {},
   "source": [
    "### Definição do input, das camadas e treinamento"
   ]
  },
  {
   "cell_type": "code",
   "execution_count": 9,
   "metadata": {},
   "outputs": [
    {
     "name": "stdout",
     "output_type": "stream",
     "text": [
      "Epoch 1/2\n",
      "60000/60000 [==============================] - 28s 467us/step - loss: 0.2100 - acc: 0.9347\n",
      "Epoch 2/2\n",
      "60000/60000 [==============================] - 37s 612us/step - loss: 0.0706 - acc: 0.9791\n"
     ]
    },
    {
     "data": {
      "text/plain": [
       "<keras.callbacks.History at 0x7f2f8fb34780>"
      ]
     },
     "execution_count": 9,
     "metadata": {},
     "output_type": "execute_result"
    }
   ],
   "source": [
    "inputs = Input(shape=(784, ))\n",
    "\n",
    "X = Reshape((28, 28, 1))(inputs)\n",
    "\n",
    "\n",
    "for j in range(2):\n",
    "    X = Conv2D(4, 3, strides=(1, 1), padding='valid')(X)\n",
    "    X = BatchNormalization()(X)\n",
    "    X = Activation('relu')(X)\n",
    "    \n",
    "X = Dense(64, activation='relu')(Flatten()(X))\n",
    "X = Dense(10, activation='softmax')(X)\n",
    "    \n",
    "model = Model(inputs, X)\n",
    "\n",
    "model.compile(loss='categorical_crossentropy', \n",
    "              optimizer='adam', metrics=['accuracy'])\n",
    "\n",
    "model.fit(\n",
    "    x=np.reshape(x_train, (x_train.shape[0], 784)), \n",
    "    y=np.eye(np.max(y_train) + 1)[y_train], batch_size=100, epochs=2)"
   ]
  },
  {
   "cell_type": "markdown",
   "metadata": {},
   "source": [
    "### Avaliação"
   ]
  },
  {
   "cell_type": "code",
   "execution_count": 10,
   "metadata": {},
   "outputs": [
    {
     "name": "stdout",
     "output_type": "stream",
     "text": [
      "10000/10000 [==============================] - 2s 249us/step\n"
     ]
    },
    {
     "data": {
      "text/plain": [
       "[0.06650953354379162, 0.9775]"
      ]
     },
     "execution_count": 10,
     "metadata": {},
     "output_type": "execute_result"
    }
   ],
   "source": [
    "model.evaluate(x=np.reshape(x_test, (x_test.shape[0], 784)), \n",
    "               y=np.eye(np.max(y_test) + 1)[y_test])"
   ]
  },
  {
   "cell_type": "markdown",
   "metadata": {},
   "source": [
    "### Usando o modelo recém-criado com entrada direto do conjunto de treino"
   ]
  },
  {
   "cell_type": "code",
   "execution_count": 123,
   "metadata": {},
   "outputs": [
    {
     "data": {
      "image/png": "[encoded data removed]",
      "text/plain": [
       "<Figure size 432x288 with 1 Axes>"
      ]
     },
     "metadata": {
      "needs_background": "light"
     },
     "output_type": "display_data"
    }
   ],
   "source": [
    "# Pegar o primeiro exemplo de treino\n",
    "entrada = x_train[0,:]\n",
    "\n",
    "plt.figure()\n",
    "plt.imshow(entrada, cmap='gray')\n",
    "plt.title(\"Vamos testar com a imagem abaixo:\")\n",
    "pass"
   ]
  },
  {
   "cell_type": "code",
   "execution_count": 124,
   "metadata": {},
   "outputs": [
    {
     "name": "stdout",
     "output_type": "stream",
     "text": [
      "Resposta do modelo: 5\n"
     ]
    }
   ],
   "source": [
    "# Tornar a entrada flat\n",
    "entrada = np.reshape(entrada, (1, 784))\n",
    "\n",
    "resultado = model.predict(x=entrada)\n",
    "resultado = np.argmax(resultado)\n",
    "print(\"Resposta do modelo: %d\" % resultado)"
   ]
  },
  {
   "cell_type": "markdown",
   "metadata": {},
   "source": [
    "### Usando o modelo recém-criado com entrada de uma foto existente num diretório"
   ]
  },
  {
   "cell_type": "markdown",
   "metadata": {},
   "source": [
    "##### Carregar imagem crua"
   ]
  },
  {
   "cell_type": "code",
   "execution_count": 116,
   "metadata": {},
   "outputs": [
    {
     "data": {
      "image/png": "[encoded data removed]",
      "text/plain": [
       "<Figure size 432x288 with 1 Axes>"
      ]
     },
     "metadata": {
      "needs_background": "light"
     },
     "output_type": "display_data"
    }
   ],
   "source": [
    "from PIL import Image\n",
    "\n",
    "arquivo_imagem = \"fotos_teste/0.png\"\n",
    "img = Image.open(arquivo_imagem)\n",
    "\n",
    "plt.figure()\n",
    "plt.imshow(img, cmap='gray')\n",
    "plt.title(\"Imagem crua carregada de um arquivo:\")\n",
    "pass"
   ]
  },
  {
   "cell_type": "markdown",
   "metadata": {},
   "source": [
    "##### Redimensionar para 28x28"
   ]
  },
  {
   "cell_type": "code",
   "execution_count": 121,
   "metadata": {},
   "outputs": [
    {
     "data": {
      "image/png": "[encoded data removed]",
      "text/plain": [
       "<Figure size 432x288 with 1 Axes>"
      ]
     },
     "metadata": {
      "needs_background": "light"
     },
     "output_type": "display_data"
    }
   ],
   "source": [
    "from skimage.transform import resize\n",
    "\n",
    "nova_img = (img / np.max(img)  )[:, :, 0] * 255\n",
    "# nova_img = np.array(img)\n",
    "nova_img = resize(nova_img, (28, 28))\n",
    "\n",
    "plt.figure()\n",
    "plt.imshow(nova_img, cmap='gray')\n",
    "plt.title(\"Imagem redimensionada para 28x28 carregada de um arquivo:\")\n",
    "pass"
   ]
  },
  {
   "cell_type": "markdown",
   "metadata": {},
   "source": [
    "##### Aplainar para dimensão unidimensional de tamanho 784, jogar no modelo e mostrar saída"
   ]
  },
  {
   "cell_type": "code",
   "execution_count": 122,
   "metadata": {},
   "outputs": [
    {
     "name": "stdout",
     "output_type": "stream",
     "text": [
      "Resposta do modelo: 0\n"
     ]
    }
   ],
   "source": [
    "# Tornar a entrada flat\n",
    "entrada = np.reshape(nova_img, (1, 784))\n",
    "\n",
    "resultado = model.predict(x=entrada)\n",
    "resultado = np.argmax(resultado)\n",
    "print(\"Resposta do modelo: %d\" % resultado)"
   ]
  },
  {
   "cell_type": "markdown",
   "metadata": {},
   "source": [
    "### Exportando modelo para arquivo em disco (formatos *.json e *.h5)"
   ]
  },
  {
   "cell_type": "code",
   "execution_count": 84,
   "metadata": {},
   "outputs": [
    {
     "name": "stdout",
     "output_type": "stream",
     "text": [
      "Modelo salvo nos arquivos model/model.json e model/model.h5\n"
     ]
    }
   ],
   "source": [
    "model_json = model.to_json()\n",
    "jsonfile = \"model/model.json\"\n",
    "h5file = \"model/model.h5\"\n",
    "with open(jsonfile, \"w\") as json_file:\n",
    "    json_file.write(model_json)\n",
    "# serialize weights to HDF5\n",
    "model.save_weights(h5file)\n",
    "print(\"Modelo salvo nos arquivos %s e %s\" % (jsonfile, h5file))"
   ]
  },
  {
   "cell_type": "markdown",
   "metadata": {},
   "source": [
    "### Carregando modelo salvo e usando para fazer inferências"
   ]
  },
  {
   "cell_type": "markdown",
   "metadata": {},
   "source": [
    "##### Carregamos os dois arquivos: o *.json nos dá a arquitetura do modelo, o *.h5 nos dá os pesos obtidos durante treinamento"
   ]
  },
  {
   "cell_type": "code",
   "execution_count": 85,
   "metadata": {},
   "outputs": [],
   "source": [
    "from keras.models import model_from_json\n",
    "json_file = open(jsonfile, 'r')\n",
    "loaded_model_json = json_file.read()\n",
    "json_file.close()\n",
    "loaded_model = model_from_json(loaded_model_json)\n",
    "# load weights into new model\n",
    "loaded_model.load_weights(h5file)\n",
    "print(\"Modelo carregado dos arquivos %s e %s\" % (jsonfile, h5file))"
   ]
  },
  {
   "cell_type": "markdown",
   "metadata": {},
   "source": [
    "##### Podemos usar o modelo carregado para fazer inferências, como se tivéssemos treinado:"
   ]
  },
  {
   "cell_type": "code",
   "execution_count": 93,
   "metadata": {},
   "outputs": [
    {
     "name": "stdout",
     "output_type": "stream",
     "text": [
      "Resposta do modelo carregado: 5\n"
     ]
    }
   ],
   "source": [
    "# Pegando a mesma entrada usada anteriormente\n",
    "\n",
    "resultado = loaded_model.predict(x=entrada)\n",
    "resultado = np.argmax(resultado)\n",
    "print(\"Resposta do modelo carregado: %d\" % resultado)"
   ]
  },
  {
   "cell_type": "code",
   "execution_count": null,
   "metadata": {},
   "outputs": [],
   "source": []
  }
 ],
 "metadata": {
  "kernelspec": {
   "display_name": "Python 3",
   "language": "python",
   "name": "python3"
  },
  "language_info": {
   "codemirror_mode": {
    "name": "ipython",
    "version": 3
   },
   "file_extension": ".py",
   "mimetype": "text/x-python",
   "name": "python",
   "nbconvert_exporter": "python",
   "pygments_lexer": "ipython3",
   "version": "3.6.7"
  }
 },
 "nbformat": 4,
 "nbformat_minor": 2
}
